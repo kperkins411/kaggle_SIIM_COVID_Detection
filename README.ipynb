{
 "cells": [
  {
   "cell_type": "markdown",
   "metadata": {},
   "source": [
    "# Introduction\n",
    "System setup, get and parse data"
   ]
  },
  {
   "cell_type": "markdown",
   "metadata": {},
   "source": [
    "## Environment"
   ]
  },
  {
   "cell_type": "markdown",
   "metadata": {},
   "source": [
    "### System\n",
    "\n",
    "Ubuntu 18.04.5 LTS<br>\n",
    "Intel Core i7-7700K 8 hyperthreaded cores<br>\n",
    "31GiB System memory<br>\n",
    "NVIDIA GP102 [TITAN Xp]<br> \n",
    "Python 3.7.9<br>\n",
    "Anaconda<br>\n",
    "PyTorch 1.7.0\n"
   ]
  },
  {
   "cell_type": "markdown",
   "metadata": {},
   "source": [
    "### Setup Python environment\n",
    " "
   ]
  },
  {
   "cell_type": "code",
   "execution_count": 1,
   "metadata": {
    "ExecuteTime": {
     "end_time": "2021-06-02T18:12:08.193160Z",
     "start_time": "2021-06-02T18:12:08.179630Z"
    }
   },
   "outputs": [],
   "source": [
    "#save current environments setup<br>\n",
    "#pip freeze >requirements.txt<br>\n",
    "\n",
    "#conda create -n rsna-pe python=3.7 pip\n",
    "#pip install -r requirements.txt"
   ]
  },
  {
   "cell_type": "code",
   "execution_count": 2,
   "metadata": {},
   "outputs": [],
   "source": [
    "!pip freeze>requirements.txt"
   ]
  },
  {
   "cell_type": "markdown",
   "metadata": {},
   "source": [
    "## Download data"
   ]
  },
  {
   "cell_type": "code",
   "execution_count": 3,
   "metadata": {
    "ExecuteTime": {
     "end_time": "2021-06-02T18:34:08.110707Z",
     "start_time": "2021-06-02T18:15:03.848936Z"
    }
   },
   "outputs": [
    {
     "name": "stdout",
     "output_type": "stream",
     "text": [
      "mkdir: cannot create directory ‘data’: File exists\n",
      "Warning: Your Kaggle API key is readable by other users on this system! To fix this, you can run 'chmod 600 /home/keith/.kaggle/kaggle.json'\n",
      "Downloading siim-covid19-detection.zip to /home/keith/AA_jupyter_tuts/kaggle-SIIM-FISABIO-RSNA COVID-19-Detection\n",
      "  2%|▊                                     | 1.72G/83.2G [00:24<19:51, 73.4MB/s]^C\n",
      "  2%|▊                                     | 1.73G/83.2G [00:25<19:44, 73.8MB/s]\n",
      "User cancelled operation\n"
     ]
    }
   ],
   "source": [
    "!mkdir data\n",
    "!cd data  #will not work in cell, next command downloads to this dir not ./data\n",
    "!kaggle competitions download -c siim-covid19-detection"
   ]
  }
 ],
 "metadata": {
  "kernelspec": {
   "display_name": "p39",
   "language": "python",
   "name": "p39"
  },
  "language_info": {
   "codemirror_mode": {
    "name": "ipython",
    "version": 3
   },
   "file_extension": ".py",
   "mimetype": "text/x-python",
   "name": "python",
   "nbconvert_exporter": "python",
   "pygments_lexer": "ipython3",
   "version": "3.9.5"
  },
  "toc": {
   "base_numbering": 1,
   "nav_menu": {},
   "number_sections": true,
   "sideBar": true,
   "skip_h1_title": false,
   "title_cell": "Table of Contents",
   "title_sidebar": "Contents",
   "toc_cell": false,
   "toc_position": {},
   "toc_section_display": true,
   "toc_window_display": true
  },
  "varInspector": {
   "cols": {
    "lenName": 16,
    "lenType": 16,
    "lenVar": 40
   },
   "kernels_config": {
    "python": {
     "delete_cmd_postfix": "",
     "delete_cmd_prefix": "del ",
     "library": "var_list.py",
     "varRefreshCmd": "print(var_dic_list())"
    },
    "r": {
     "delete_cmd_postfix": ") ",
     "delete_cmd_prefix": "rm(",
     "library": "var_list.r",
     "varRefreshCmd": "cat(var_dic_list()) "
    }
   },
   "types_to_exclude": [
    "module",
    "function",
    "builtin_function_or_method",
    "instance",
    "_Feature"
   ],
   "window_display": true
  }
 },
 "nbformat": 4,
 "nbformat_minor": 4
}
