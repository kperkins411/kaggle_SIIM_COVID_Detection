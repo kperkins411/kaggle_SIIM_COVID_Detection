{
 "cells": [
  {
   "cell_type": "markdown",
   "id": "596751e7-57c9-4dce-a5b0-05ec94152271",
   "metadata": {},
   "source": [
    "# This is just running detect on validation images that a model was trained on"
   ]
  },
  {
   "cell_type": "code",
   "execution_count": 17,
   "id": "eb297de0-7f0d-4275-a591-fa83397d703e",
   "metadata": {},
   "outputs": [
    {
     "data": {
      "text/html": [
       "        <script type=\"text/javascript\">\n",
       "        window.PlotlyConfig = {MathJaxConfig: 'local'};\n",
       "        if (window.MathJax) {MathJax.Hub.Config({SVG: {font: \"STIX-Web\"}});}\n",
       "        if (typeof require !== 'undefined') {\n",
       "        require.undef(\"plotly\");\n",
       "        requirejs.config({\n",
       "            paths: {\n",
       "                'plotly': ['https://cdn.plot.ly/plotly-latest.min']\n",
       "            }\n",
       "        });\n",
       "        require(['plotly'], function(Plotly) {\n",
       "            window._Plotly = Plotly;\n",
       "        });\n",
       "        }\n",
       "        </script>\n",
       "        "
      ]
     },
     "metadata": {},
     "output_type": "display_data"
    },
    {
     "data": {
      "text/html": [
       "        <script type=\"text/javascript\">\n",
       "        window.PlotlyConfig = {MathJaxConfig: 'local'};\n",
       "        if (window.MathJax) {MathJax.Hub.Config({SVG: {font: \"STIX-Web\"}});}\n",
       "        if (typeof require !== 'undefined') {\n",
       "        require.undef(\"plotly\");\n",
       "        requirejs.config({\n",
       "            paths: {\n",
       "                'plotly': ['https://cdn.plot.ly/plotly-latest.min']\n",
       "            }\n",
       "        });\n",
       "        require(['plotly'], function(Plotly) {\n",
       "            window._Plotly = Plotly;\n",
       "        });\n",
       "        }\n",
       "        </script>\n",
       "        "
      ]
     },
     "metadata": {},
     "output_type": "display_data"
    },
    {
     "name": "stdout",
     "output_type": "stream",
     "text": [
      "The autoreload extension is already loaded. To reload it, use:\n",
      "  %reload_ext autoreload\n"
     ]
    }
   ],
   "source": [
    "import numpy as np\n",
    "import pandas as pd\n",
    "import os\n",
    "\n",
    "\n",
    "import plotly.graph_objects as go\n",
    "from plotly.offline import iplot, init_notebook_mode\n",
    "init_notebook_mode(connected=True)\n",
    "import seaborn as sns\n",
    "import matplotlib.pyplot as plt\n",
    "from plotly.offline import iplot, init_notebook_mode\n",
    "init_notebook_mode(connected=True)\n",
    "import plotly_express as px\n",
    "import plotly.graph_objects as go\n",
    "from plotly.subplots import make_subplots\n",
    "from plotly.offline import init_notebook_mode\n",
    "import plotly.io as pio\n",
    "from plotly.subplots import make_subplots\n",
    "# setting default template to plotly_white for all visualizations\n",
    "pio.templates.default = \"plotly_white\"\n",
    "%matplotlib inline\n",
    "import gc\n",
    "\n",
    "import utils_eda as uteda\n",
    "\n",
    "import warnings\n",
    "warnings.filterwarnings('ignore')\n",
    "#get a list of all the files\n",
    "from tqdm.auto import tqdm\n",
    "\n",
    "%load_ext autoreload\n",
    "%autoreload 2"
   ]
  },
  {
   "cell_type": "markdown",
   "id": "703be439-1885-4266-ae61-4cc6362b4c0c",
   "metadata": {},
   "source": [
    "# Where is data to run preds on?"
   ]
  },
  {
   "cell_type": "code",
   "execution_count": 7,
   "id": "117ef7f5-4bce-4113-9fed-8561b63861aa",
   "metadata": {},
   "outputs": [],
   "source": [
    "IMAGES_PATH = '/home/keith/AA_jupyter_tuts/kaggle_SIIM_COVID_Detection/tmp/covid/images/valid'"
   ]
  },
  {
   "cell_type": "markdown",
   "id": "373939cb-a3d8-4950-a0cd-0afd643ae3b7",
   "metadata": {},
   "source": [
    "# Load a trained yolov5 models and run predictions on files in IMAGES_PATH.\n"
   ]
  },
  {
   "cell_type": "code",
   "execution_count": 8,
   "id": "7068d7a6-5158-458a-84b0-cdf01118c2b9",
   "metadata": {},
   "outputs": [
    {
     "name": "stdout",
     "output_type": "stream",
     "text": [
      "/home/keith/AA_jupyter_tuts/kaggle_SIIM_COVID_Detection/tmp/yolov5/kaggle-siim-covid/exp15/weights/best.pt\n"
     ]
    }
   ],
   "source": [
    "import os\n",
    "cwd = os.path.abspath(os.getcwd())\n",
    "\n",
    "# MODEL1_PATH_2CLASSES ='/artifacts/run_3bh5hck7_model:v199/best.pt'#use alone\n",
    "exp15_weights=cwd +\"/tmp/yolov5/kaggle-siim-covid/exp15/weights/best.pt\" # .53 at .131\n",
    "exp21_weights=cwd +\"/tmp/yolov5/kaggle-siim-covid/exp21/weights/best.pt\" # .52 at .152\n",
    "exp20_weights=cwd +\"/tmp/yolov5/kaggle-siim-covid/exp20/weights/best.pt\" # .48 at .182\n",
    "exp19_weights=cwd +'/tmp/yolov5/kaggle-siim-covid/exp19/weights/best.pt' # .49 at .194\n",
    "\n",
    "print(exp15_weights)"
   ]
  },
  {
   "cell_type": "markdown",
   "id": "806090b3-0b24-4ac6-8b3a-39e69fefa28d",
   "metadata": {},
   "source": [
    "# Run models, or ensembles of models\n"
   ]
  },
  {
   "cell_type": "code",
   "execution_count": 9,
   "id": "d90596c8-4645-43d5-b3a9-dc40ae38fb8c",
   "metadata": {},
   "outputs": [],
   "source": [
    "# keys= name of the predict output dir\n",
    "# vals=model weights we are using per run \n",
    "run_names=['exp15','exp19','exp20','exp21']\n",
    "model_weights=[ [exp15_weights,\"0.131\"], [exp19_weights, \".194\"],[exp20_weights,\".182\"], [exp21_weights,\".152\"]]\n",
    "\n",
    "# model_weights=[ MODEL_PATH_1CLASS + \" \"+MODEL_PATH_2CLASS, MODEL_PATH_1CLASS,MODEL_PATH_2CLASS, MODEL_PATH_3CLASS_KAGGLE]\n",
    "model_sel=dict(zip(run_names,model_weights))\n",
    "# model_sel"
   ]
  },
  {
   "cell_type": "code",
   "execution_count": 32,
   "id": "8c485e2a-4299-42a3-b43c-d4f92ace2e93",
   "metadata": {},
   "outputs": [
    {
     "name": "stdout",
     "output_type": "stream",
     "text": [
      "/home/keith/AA_jupyter_tuts/kaggle_SIIM_COVID_Detection/tmp/yolov5\n",
      "YOLOv5 🚀 v5.0-294-gdd62e2d torch 1.9.0+cu102 CUDA:0 (TITAN Xp, 12194.0625MB)\n",
      "\n",
      "Fusing layers... \n",
      "/home/keith/anaconda3/envs/p39/lib/python3.9/site-packages/torch/nn/functional.py:718: UserWarning: Named tensors and all their associated APIs are an experimental feature and subject to change. Please do not use them for anything important until they are released as stable. (Triggered internally at  /pytorch/c10/core/TensorImpl.h:1156.)\n",
      "  return torch.max_pool2d(input, kernel_size, stride, padding, dilation, ceil_mode)\n",
      "Model Summary: 224 layers, 7053910 parameters, 0 gradients, 16.3 GFLOPs\n",
      "YOLOv5 🚀 v5.0-294-gdd62e2d torch 1.9.0+cu102 CUDA:0 (TITAN Xp, 12194.0625MB)\n",
      "\n",
      "Fusing layers... \n",
      "/home/keith/anaconda3/envs/p39/lib/python3.9/site-packages/torch/nn/functional.py:718: UserWarning: Named tensors and all their associated APIs are an experimental feature and subject to change. Please do not use them for anything important until they are released as stable. (Triggered internally at  /pytorch/c10/core/TensorImpl.h:1156.)\n",
      "  return torch.max_pool2d(input, kernel_size, stride, padding, dilation, ceil_mode)\n",
      "Model Summary: 308 layers, 21037638 parameters, 0 gradients, 50.3 GFLOPs\n",
      "YOLOv5 🚀 v5.0-294-gdd62e2d torch 1.9.0+cu102 CUDA:0 (TITAN Xp, 12194.0625MB)\n",
      "\n",
      "Fusing layers... \n",
      "/home/keith/anaconda3/envs/p39/lib/python3.9/site-packages/torch/nn/functional.py:718: UserWarning: Named tensors and all their associated APIs are an experimental feature and subject to change. Please do not use them for anything important until they are released as stable. (Triggered internally at  /pytorch/c10/core/TensorImpl.h:1156.)\n",
      "  return torch.max_pool2d(input, kernel_size, stride, padding, dilation, ceil_mode)\n",
      "Model Summary: 392 layers, 46600566 parameters, 0 gradients, 114.1 GFLOPs\n",
      "YOLOv5 🚀 v5.0-294-gdd62e2d torch 1.9.0+cu102 CUDA:0 (TITAN Xp, 12194.0625MB)\n",
      "\n",
      "Fusing layers... \n",
      "/home/keith/anaconda3/envs/p39/lib/python3.9/site-packages/torch/nn/functional.py:718: UserWarning: Named tensors and all their associated APIs are an experimental feature and subject to change. Please do not use them for anything important until they are released as stable. (Triggered internally at  /pytorch/c10/core/TensorImpl.h:1156.)\n",
      "  return torch.max_pool2d(input, kernel_size, stride, padding, dilation, ceil_mode)\n",
      "Model Summary: 224 layers, 7053910 parameters, 0 gradients, 16.3 GFLOPs\n",
      "/home/keith/AA_jupyter_tuts/kaggle_SIIM_COVID_Detection\n",
      "CPU times: user 524 ms, sys: 178 ms, total: 702 ms\n",
      "Wall time: 1min 3s\n"
     ]
    }
   ],
   "source": [
    "%%time\n",
    "%cd tmp/yolov5\n",
    "\n",
    "for key, val in model_sel.items():   \n",
    "    %rm -rf ./runs/detect/{key}\n",
    "#     params=\"--weights \" + val+\" --source \" + TEST_DIR+ \"  --img 512 --conf 0.281 --iou-thres 0.5 --max-det 8  --save-txt  --save-conf --name \" + key + \" --exist-ok\"\n",
    "#CHANGING CONFIDENCE SCORE\n",
    "    params=\"--weights \" + val[0]+\" --source \" + IMAGES_PATH+ \"  --img 640 --conf \" + val[1] +\" --iou-thres 0.5 --max-det 4  --save-txt  --save-conf --name \" + key + \" --exist-ok\"\n",
    "\n",
    "    !python detect.py {params} >out.txt\n",
    "    \n",
    "# #get back to correct dir\n",
    "%cd ../.."
   ]
  },
  {
   "cell_type": "markdown",
   "id": "8ed9a05a-dc58-4e47-9bab-1649f9552fd3",
   "metadata": {},
   "source": [
    "# Outputs are in ./tmp/yolov5/runs/detect/exp15 (exp16 etc)\n",
    "## labels are in ./tmp/yolov5/runs/detect/exp15/labels \n",
    "## 1st is class, last is confidence.  Looks like following\n",
    "1 0.326869 0.343108 0.252468 0.463613 0.402857 <br>\n",
    "1 0.695874 0.373716 0.246474 0.478596 0.450281\n"
   ]
  },
  {
   "cell_type": "code",
   "execution_count": 10,
   "id": "cbf8c940-c7aa-4223-a919-f69188db509f",
   "metadata": {},
   "outputs": [],
   "source": [
    "#how many files did detect run on?\n",
    "fles=uteda.get_files(IMAGES_PATH)\n",
    "fles\n",
    "\n",
    "#lets get the image id\n",
    "fls1=[fle.split('/')[-1] for fle in fles]\n",
    "fls1=[fle.split('.')[0] for fle in fls1]"
   ]
  },
  {
   "cell_type": "code",
   "execution_count": 3,
   "id": "03b4173a-416c-4ed8-b307-689b7db51cb3",
   "metadata": {},
   "outputs": [
    {
     "data": {
      "text/html": [
       "<div>\n",
       "<style scoped>\n",
       "    .dataframe tbody tr th:only-of-type {\n",
       "        vertical-align: middle;\n",
       "    }\n",
       "\n",
       "    .dataframe tbody tr th {\n",
       "        vertical-align: top;\n",
       "    }\n",
       "\n",
       "    .dataframe thead th {\n",
       "        text-align: right;\n",
       "    }\n",
       "</style>\n",
       "<table border=\"1\" class=\"dataframe\">\n",
       "  <thead>\n",
       "    <tr style=\"text-align: right;\">\n",
       "      <th></th>\n",
       "      <th>id</th>\n",
       "      <th>boxes</th>\n",
       "      <th>label</th>\n",
       "      <th>StudyInstanceUID</th>\n",
       "      <th>dim0</th>\n",
       "      <th>dim1</th>\n",
       "      <th>split</th>\n",
       "    </tr>\n",
       "  </thead>\n",
       "  <tbody>\n",
       "    <tr>\n",
       "      <th>0</th>\n",
       "      <td>000a312787f2</td>\n",
       "      <td>[{'x': 789.28836, 'y': 582.43035, 'width': 102...</td>\n",
       "      <td>opacity 1 789.28836 582.43035 1815.94498 2499....</td>\n",
       "      <td>5776db0cec75</td>\n",
       "      <td>3488</td>\n",
       "      <td>4256</td>\n",
       "      <td>train</td>\n",
       "    </tr>\n",
       "    <tr>\n",
       "      <th>1</th>\n",
       "      <td>000c3a3f293f</td>\n",
       "      <td>NaN</td>\n",
       "      <td>none 1 0 0 1 1</td>\n",
       "      <td>ff0879eb20ed</td>\n",
       "      <td>2320</td>\n",
       "      <td>2832</td>\n",
       "      <td>train</td>\n",
       "    </tr>\n",
       "    <tr>\n",
       "      <th>2</th>\n",
       "      <td>0012ff7358bc</td>\n",
       "      <td>[{'x': 677.42216, 'y': 197.97662, 'width': 867...</td>\n",
       "      <td>opacity 1 677.42216 197.97662 1545.21983 1197....</td>\n",
       "      <td>9d514ce429a7</td>\n",
       "      <td>2544</td>\n",
       "      <td>3056</td>\n",
       "      <td>train</td>\n",
       "    </tr>\n",
       "    <tr>\n",
       "      <th>3</th>\n",
       "      <td>001398f4ff4f</td>\n",
       "      <td>[{'x': 2729, 'y': 2181.33331, 'width': 948.000...</td>\n",
       "      <td>opacity 1 2729 2181.33331 3677.00012 2785.33331</td>\n",
       "      <td>28dddc8559b2</td>\n",
       "      <td>3520</td>\n",
       "      <td>4280</td>\n",
       "      <td>train</td>\n",
       "    </tr>\n",
       "    <tr>\n",
       "      <th>4</th>\n",
       "      <td>001bd15d1891</td>\n",
       "      <td>[{'x': 623.23328, 'y': 1050, 'width': 714, 'he...</td>\n",
       "      <td>opacity 1 623.23328 1050 1337.23328 2156 opaci...</td>\n",
       "      <td>dfd9fdd85a3e</td>\n",
       "      <td>2800</td>\n",
       "      <td>3408</td>\n",
       "      <td>train</td>\n",
       "    </tr>\n",
       "    <tr>\n",
       "      <th>...</th>\n",
       "      <td>...</td>\n",
       "      <td>...</td>\n",
       "      <td>...</td>\n",
       "      <td>...</td>\n",
       "      <td>...</td>\n",
       "      <td>...</td>\n",
       "      <td>...</td>\n",
       "    </tr>\n",
       "    <tr>\n",
       "      <th>6329</th>\n",
       "      <td>ffcc6edd9445</td>\n",
       "      <td>NaN</td>\n",
       "      <td>none 1 0 0 1 1</td>\n",
       "      <td>7e6c68462e06</td>\n",
       "      <td>4240</td>\n",
       "      <td>3480</td>\n",
       "      <td>train</td>\n",
       "    </tr>\n",
       "    <tr>\n",
       "      <th>6330</th>\n",
       "      <td>ffd91a2c4ca0</td>\n",
       "      <td>NaN</td>\n",
       "      <td>none 1 0 0 1 1</td>\n",
       "      <td>8332bdaddb6e</td>\n",
       "      <td>2800</td>\n",
       "      <td>3408</td>\n",
       "      <td>train</td>\n",
       "    </tr>\n",
       "    <tr>\n",
       "      <th>6331</th>\n",
       "      <td>ffd9b6cf2961</td>\n",
       "      <td>[{'x': 2197.38566, 'y': 841.07361, 'width': 31...</td>\n",
       "      <td>opacity 1 2197.38566 841.07361 2513.80265 1292...</td>\n",
       "      <td>7eed9af03814</td>\n",
       "      <td>2388</td>\n",
       "      <td>3050</td>\n",
       "      <td>train</td>\n",
       "    </tr>\n",
       "    <tr>\n",
       "      <th>6332</th>\n",
       "      <td>ffdc682f7680</td>\n",
       "      <td>[{'x': 2729.27083, 'y': 332.26044, 'width': 14...</td>\n",
       "      <td>opacity 1 2729.27083 332.26044 4225.52099 2936...</td>\n",
       "      <td>a0cb0b96fb3d</td>\n",
       "      <td>3488</td>\n",
       "      <td>4256</td>\n",
       "      <td>train</td>\n",
       "    </tr>\n",
       "    <tr>\n",
       "      <th>6333</th>\n",
       "      <td>ffe942c8655f</td>\n",
       "      <td>[{'x': 208.86463, 'y': 91.53448, 'width': 450....</td>\n",
       "      <td>opacity 1 208.86463 91.53448 659.8321 719.5892...</td>\n",
       "      <td>7d82d53204b8</td>\n",
       "      <td>1140</td>\n",
       "      <td>1387</td>\n",
       "      <td>train</td>\n",
       "    </tr>\n",
       "  </tbody>\n",
       "</table>\n",
       "<p>6334 rows × 7 columns</p>\n",
       "</div>"
      ],
      "text/plain": [
       "                id                                              boxes  \\\n",
       "0     000a312787f2  [{'x': 789.28836, 'y': 582.43035, 'width': 102...   \n",
       "1     000c3a3f293f                                                NaN   \n",
       "2     0012ff7358bc  [{'x': 677.42216, 'y': 197.97662, 'width': 867...   \n",
       "3     001398f4ff4f  [{'x': 2729, 'y': 2181.33331, 'width': 948.000...   \n",
       "4     001bd15d1891  [{'x': 623.23328, 'y': 1050, 'width': 714, 'he...   \n",
       "...            ...                                                ...   \n",
       "6329  ffcc6edd9445                                                NaN   \n",
       "6330  ffd91a2c4ca0                                                NaN   \n",
       "6331  ffd9b6cf2961  [{'x': 2197.38566, 'y': 841.07361, 'width': 31...   \n",
       "6332  ffdc682f7680  [{'x': 2729.27083, 'y': 332.26044, 'width': 14...   \n",
       "6333  ffe942c8655f  [{'x': 208.86463, 'y': 91.53448, 'width': 450....   \n",
       "\n",
       "                                                  label StudyInstanceUID  \\\n",
       "0     opacity 1 789.28836 582.43035 1815.94498 2499....     5776db0cec75   \n",
       "1                                        none 1 0 0 1 1     ff0879eb20ed   \n",
       "2     opacity 1 677.42216 197.97662 1545.21983 1197....     9d514ce429a7   \n",
       "3       opacity 1 2729 2181.33331 3677.00012 2785.33331     28dddc8559b2   \n",
       "4     opacity 1 623.23328 1050 1337.23328 2156 opaci...     dfd9fdd85a3e   \n",
       "...                                                 ...              ...   \n",
       "6329                                     none 1 0 0 1 1     7e6c68462e06   \n",
       "6330                                     none 1 0 0 1 1     8332bdaddb6e   \n",
       "6331  opacity 1 2197.38566 841.07361 2513.80265 1292...     7eed9af03814   \n",
       "6332  opacity 1 2729.27083 332.26044 4225.52099 2936...     a0cb0b96fb3d   \n",
       "6333  opacity 1 208.86463 91.53448 659.8321 719.5892...     7d82d53204b8   \n",
       "\n",
       "      dim0  dim1  split  \n",
       "0     3488  4256  train  \n",
       "1     2320  2832  train  \n",
       "2     2544  3056  train  \n",
       "3     3520  4280  train  \n",
       "4     2800  3408  train  \n",
       "...    ...   ...    ...  \n",
       "6329  4240  3480  train  \n",
       "6330  2800  3408  train  \n",
       "6331  2388  3050  train  \n",
       "6332  3488  4256  train  \n",
       "6333  1140  1387  train  \n",
       "\n",
       "[6334 rows x 7 columns]"
      ]
     },
     "execution_count": 3,
     "metadata": {},
     "output_type": "execute_result"
    }
   ],
   "source": [
    "image_df, study_df, submission=uteda.get_all_dataframes()\n",
    "image_df"
   ]
  },
  {
   "cell_type": "markdown",
   "id": "7ea600fa-42be-43b3-b358-bf6ae317d63b",
   "metadata": {},
   "source": [
    "# Select from image_df all rows where id is in fls1"
   ]
  },
  {
   "cell_type": "code",
   "execution_count": 11,
   "id": "9de9cc0d-5833-46f7-86c4-76bd5a06f8f2",
   "metadata": {},
   "outputs": [],
   "source": [
    "df=image_df[image_df['id'].isin(fls1)]\n",
    "df.reset_index(inplace=True, drop=True)"
   ]
  },
  {
   "cell_type": "code",
   "execution_count": 12,
   "id": "0e732d3c-937b-4ca3-84ab-7d0e844c99cd",
   "metadata": {},
   "outputs": [
    {
     "data": {
      "text/plain": [
       "634"
      ]
     },
     "execution_count": 12,
     "metadata": {},
     "output_type": "execute_result"
    }
   ],
   "source": [
    "len(df)"
   ]
  },
  {
   "cell_type": "markdown",
   "id": "7b184f71-101a-49fd-98d5-fa202d5fde2f",
   "metadata": {},
   "source": [
    "#  Get correct bboxes"
   ]
  },
  {
   "cell_type": "code",
   "execution_count": 18,
   "id": "21ac189c-b8bc-469a-a71b-c7a679099fba",
   "metadata": {},
   "outputs": [
    {
     "data": {
      "application/vnd.jupyter.widget-view+json": {
       "model_id": "416dd6dd1ce246c6a890e97cf41b13f2",
       "version_major": 2,
       "version_minor": 0
      },
      "text/plain": [
       "  0%|          | 0/634 [00:00<?, ?it/s]"
      ]
     },
     "metadata": {},
     "output_type": "display_data"
    }
   ],
   "source": [
    "# get boxes\n",
    "all_boxes=[]\n",
    "\n",
    "for i in tqdm(range(len(df))):\n",
    "    all_boxes.append(uteda.get_boxes(df.loc[i]))\n"
   ]
  },
  {
   "cell_type": "code",
   "execution_count": null,
   "id": "cfa1e630-e4c1-4450-a7bb-9ef7e4375b26",
   "metadata": {},
   "outputs": [],
   "source": []
  }
 ],
 "metadata": {
  "kernelspec": {
   "display_name": "p39",
   "language": "python",
   "name": "p39"
  },
  "language_info": {
   "codemirror_mode": {
    "name": "ipython",
    "version": 3
   },
   "file_extension": ".py",
   "mimetype": "text/x-python",
   "name": "python",
   "nbconvert_exporter": "python",
   "pygments_lexer": "ipython3",
   "version": "3.9.5"
  }
 },
 "nbformat": 4,
 "nbformat_minor": 5
}
